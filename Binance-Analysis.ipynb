{
 "cells": [
  {
   "cell_type": "code",
   "execution_count": 1,
   "metadata": {},
   "outputs": [],
   "source": [
    "\n",
    "import time\n",
    "import dateparser\n",
    "import pytz\n",
    "import json\n",
    "\n",
    "from datetime import datetime\n",
    "\n",
    "from binance.client import Client\n",
    "client = Client(\"\", \"\")"
   ]
  },
  {
   "cell_type": "code",
   "execution_count": 223,
   "metadata": {},
   "outputs": [],
   "source": [
    "import numpy as np\n",
    "import pandas as pd\n",
    "import pickle"
   ]
  },
  {
   "cell_type": "code",
   "execution_count": 224,
   "metadata": {},
   "outputs": [],
   "source": [
    "import matplotlib.pyplot as plt\n"
   ]
  },
  {
   "cell_type": "markdown",
   "metadata": {},
   "source": [
    "<h5>Helper function that downloads and caches ticker information from the Binance API</h5>\n",
    "<h5>\n",
    "This function will allow us to download live ticker data from the Binance API. We specify the symbol parameter as a ticker pair like 'ETHBTC', time_interval like 'Client.KLINE_INTERVAL_4HOUR' and start_time/end_time like '2017-01-01'</h5>"
   ]
  },
  {
   "cell_type": "code",
   "execution_count": 5,
   "metadata": {},
   "outputs": [],
   "source": [
    "\n",
    "def get_symbol_df(symbol, time_interval, start_time, end_time = None):\n",
    "    '''Download and cache Binance data for given symbol pair like ETHBTC'''\n",
    "    \n",
    "    cache_path = '{} {} {}.pkl'.format(symbol, time_interval, start_time)\n",
    "    try:\n",
    "        f = open(cache_path, 'rb')\n",
    "        data_df = pickle.load(f)\n",
    "        print('Loaded {} from cache'.format(symbol))\n",
    "        \n",
    "    except(OSError, IOError) as e:\n",
    "        print('Downloading {} from Binance'.format(symbol))\n",
    "    \n",
    "        #get symbol data from binance \n",
    "        candles = client.get_historical_klines(symbol, time_interval, start_time, end_time)\n",
    "    \n",
    "        #labels for dataframe\n",
    "        labels = ['Open time', 'Open', 'High', 'Low', 'Close', 'Volume', 'Close time', 'Quote asset volume', 'Number of trades',\n",
    "         'Taker buy base asset volume', 'Taker buy quote asset volume', 'Ignore']\n",
    "\n",
    "        #populate database with symbols info\n",
    "        data_df = pd.DataFrame(candles, columns=labels)\n",
    "    \n",
    "        #convert timestamp \n",
    "        data_df['Open time'] = pd.to_datetime(data_df['Open time'].div(1000), unit='s')\n",
    "        data_df['Close time'] = pd.to_datetime(data_df['Close time'].div(1000), unit='s')\n",
    "        \n",
    "        data_df.to_pickle(cache_path)\n",
    "        print('Cached {} at {}'.format(symbol, cache_path))\n",
    "    \n",
    "    return data_df\n",
    " \n"
   ]
  },
  {
   "cell_type": "markdown",
   "metadata": {},
   "source": [
    "<h5>Prepare a list of ticker pairs</h5>"
   ]
  },
  {
   "cell_type": "code",
   "execution_count": 527,
   "metadata": {},
   "outputs": [],
   "source": [
    "def get_all_symbol_pairs(base):\n",
    "    '''Returns list of symbol pairs for given base\n",
    "    (would be easy to edit the code to add the most up to date price also)'''\n",
    "    \n",
    "    #get live ticker pairs currently listed on binance\n",
    "    prices = client.get_all_tickers()\n",
    "    \n",
    "    symbol_list = []\n",
    "    for d in prices:\n",
    "        \n",
    "        #if trailing 3 characters == base_symbol add the symbol pair and return list\n",
    "        if(d['symbol'][-3:] == base):\n",
    "            symbol_list.append(d['symbol'])\n",
    "            \n",
    "    return symbol_list"
   ]
  },
  {
   "cell_type": "markdown",
   "metadata": {},
   "source": [
    "<h5>get a dictionary of specified ticker pairs</h5>"
   ]
  },
  {
   "cell_type": "code",
   "execution_count": 542,
   "metadata": {},
   "outputs": [],
   "source": [
    "def get_all_symbol_df(base_symbol, time_interval, start_time, end_time = None, add_usd = True):\n",
    "    '''Returns dictionary of dataframes of symbol pairs'''\n",
    "    \n",
    "    #use following line to get an updated list\n",
    "    symbol_pairs = get_all_symbol_pairs(base_symbol)\n",
    "    #symbol_pairs = btc_pairs\n",
    "    \n",
    "    dict_df = {}\n",
    "    #get a dataframe of all symbol_pairs populated into a list\n",
    "    for symbol in symbol_pairs:\n",
    "\n",
    "        data_df = get_symbol_df(symbol, time_interval, start_time)\n",
    "        data_df['ticker'] = symbol\n",
    "        \n",
    "        #add usd column\n",
    "        if(add_usd):\n",
    "            #this runs multi times when it doesn't need to....fix it later\n",
    "            data_df = get_usd_price(data_df, time_interval)\n",
    "        \n",
    "        dict_df[symbol]  = data_df\n",
    "        \n",
    "        #####cap data amount for testing purposes. remove later \n",
    "        if(len(dict_df) > 10):\n",
    "            return dict_df\n",
    "        \n",
    "    return dict_df"
   ]
  },
  {
   "cell_type": "markdown",
   "metadata": {},
   "source": [
    "<h5>return USD price of ticker pair</h5>"
   ]
  },
  {
   "cell_type": "code",
   "execution_count": 545,
   "metadata": {},
   "outputs": [],
   "source": [
    "#BTCUSDT only starts from 2017-08-17 for binance so we lose a month of data, \n",
    "#also USDT is not USD. Although it is tethered to USD it deviates depending on supply/demand\n",
    "#we could pull true USD/BTC rates from other exchanges, but for our MVP this should be fine\n",
    "\n",
    "def get_usd_price(df, interval):\n",
    "    '''return df with usdt price added as column'''\n",
    "    \n",
    "    btc_usdt = get_symbol_df('BTCUSDT', interval, '2017-01-01')\n",
    "    btc_usdt = btc_usdt.drop(columns=['Open', 'High', 'Low', 'Volume', 'Close time', 'Quote asset volume',\n",
    "                                           'Number of trades', 'Taker buy base asset volume', 'Taker buy quote asset volume',\n",
    "                                           'Ignore'])\n",
    "    \n",
    "    #use inner here since usdt data starts on 2018-08-17 and was pulled more recently\n",
    "    df =df.merge(btc_usdt, left_on='Open time', right_on='Open time', how='inner')\n",
    "    \n",
    "    df['Usd'] = round(df['Close_x'].astype(float) * df['Close_y'].astype(float), 2)\n",
    "    df = df.drop(columns ='Close_y')\n",
    "    df = df.rename(columns={\"Close_x\": \"Close\"})\n",
    "    \n",
    "    return df"
   ]
  },
  {
   "cell_type": "markdown",
   "metadata": {},
   "source": [
    "<h6>With our helper functions setup we can now start downloading BTC pair information. We will start with 4 hour intervals to see if any pump and dumps occur during this time frame.</h6>"
   ]
  },
  {
   "cell_type": "code",
   "execution_count": 448,
   "metadata": {},
   "outputs": [
    {
     "name": "stdout",
     "output_type": "stream",
     "text": [
      "Loaded ETHBTC from cache\n",
      "Loaded BTCUSDT from cache\n",
      "Loaded LTCBTC from cache\n",
      "Loaded BTCUSDT from cache\n",
      "Loaded BNBBTC from cache\n",
      "Loaded BTCUSDT from cache\n",
      "Loaded NEOBTC from cache\n",
      "Loaded BTCUSDT from cache\n",
      "Loaded BCCBTC from cache\n",
      "Loaded BTCUSDT from cache\n",
      "Loaded GASBTC from cache\n",
      "Loaded BTCUSDT from cache\n",
      "Loaded HSRBTC from cache\n",
      "Loaded BTCUSDT from cache\n",
      "Loaded MCOBTC from cache\n",
      "Loaded BTCUSDT from cache\n",
      "Loaded WTCBTC from cache\n",
      "Loaded BTCUSDT from cache\n",
      "Loaded LRCBTC from cache\n",
      "Loaded BTCUSDT from cache\n",
      "Loaded QTUMBTC from cache\n",
      "Loaded BTCUSDT from cache\n"
     ]
    }
   ],
   "source": [
    "#dictionary of all BTC pairs in 4 hour intervals\n",
    "#key = ticker pair , values = df \n",
    "btc_4hour_dict = get_all_symbol_df('BTC', Client.KLINE_INTERVAL_4HOUR, \"2017-01-01\")"
   ]
  },
  {
   "cell_type": "code",
   "execution_count": 537,
   "metadata": {},
   "outputs": [
    {
     "data": {
      "text/html": [
       "<div>\n",
       "<style scoped>\n",
       "    .dataframe tbody tr th:only-of-type {\n",
       "        vertical-align: middle;\n",
       "    }\n",
       "\n",
       "    .dataframe tbody tr th {\n",
       "        vertical-align: top;\n",
       "    }\n",
       "\n",
       "    .dataframe thead th {\n",
       "        text-align: right;\n",
       "    }\n",
       "</style>\n",
       "<table border=\"1\" class=\"dataframe\">\n",
       "  <thead>\n",
       "    <tr style=\"text-align: right;\">\n",
       "      <th></th>\n",
       "      <th>Open time</th>\n",
       "      <th>Open</th>\n",
       "      <th>High</th>\n",
       "      <th>Low</th>\n",
       "      <th>Close</th>\n",
       "      <th>Volume</th>\n",
       "      <th>Close time</th>\n",
       "      <th>Quote asset volume</th>\n",
       "      <th>Number of trades</th>\n",
       "      <th>Taker buy base asset volume</th>\n",
       "      <th>Taker buy quote asset volume</th>\n",
       "      <th>Ignore</th>\n",
       "      <th>ticker</th>\n",
       "      <th>Usd</th>\n",
       "    </tr>\n",
       "  </thead>\n",
       "  <tbody>\n",
       "    <tr>\n",
       "      <th>0</th>\n",
       "      <td>2017-08-17 04:00:00</td>\n",
       "      <td>0.07058200</td>\n",
       "      <td>0.07158200</td>\n",
       "      <td>0.06986700</td>\n",
       "      <td>0.07109400</td>\n",
       "      <td>4021.53900000</td>\n",
       "      <td>2017-08-17 07:59:59.999</td>\n",
       "      <td>283.55430669</td>\n",
       "      <td>3117</td>\n",
       "      <td>1950.58800000</td>\n",
       "      <td>137.64451024</td>\n",
       "      <td>46884.54339102</td>\n",
       "      <td>ETHBTC</td>\n",
       "      <td>309.26</td>\n",
       "    </tr>\n",
       "    <tr>\n",
       "      <th>1</th>\n",
       "      <td>2017-08-17 08:00:00</td>\n",
       "      <td>0.07088100</td>\n",
       "      <td>0.07122900</td>\n",
       "      <td>0.06883000</td>\n",
       "      <td>0.06940600</td>\n",
       "      <td>3403.20800000</td>\n",
       "      <td>2017-08-17 11:59:59.999</td>\n",
       "      <td>238.55234849</td>\n",
       "      <td>2984</td>\n",
       "      <td>1552.15500000</td>\n",
       "      <td>108.75034780</td>\n",
       "      <td>46866.63079951</td>\n",
       "      <td>ETHBTC</td>\n",
       "      <td>307.28</td>\n",
       "    </tr>\n",
       "    <tr>\n",
       "      <th>2</th>\n",
       "      <td>2017-08-17 12:00:00</td>\n",
       "      <td>0.06940600</td>\n",
       "      <td>0.07130400</td>\n",
       "      <td>0.06807700</td>\n",
       "      <td>0.07056100</td>\n",
       "      <td>5091.01200000</td>\n",
       "      <td>2017-08-17 15:59:59.999</td>\n",
       "      <td>353.53825545</td>\n",
       "      <td>4190</td>\n",
       "      <td>2497.76000000</td>\n",
       "      <td>173.62711426</td>\n",
       "      <td>47528.18909052</td>\n",
       "      <td>ETHBTC</td>\n",
       "      <td>307.11</td>\n",
       "    </tr>\n",
       "    <tr>\n",
       "      <th>3</th>\n",
       "      <td>2017-08-17 16:00:00</td>\n",
       "      <td>0.07023900</td>\n",
       "      <td>0.07225400</td>\n",
       "      <td>0.06959600</td>\n",
       "      <td>0.07012400</td>\n",
       "      <td>4916.10800000</td>\n",
       "      <td>2017-08-17 19:59:59.999</td>\n",
       "      <td>348.75722631</td>\n",
       "      <td>4351</td>\n",
       "      <td>2317.15100000</td>\n",
       "      <td>164.06176172</td>\n",
       "      <td>48886.75337014</td>\n",
       "      <td>ETHBTC</td>\n",
       "      <td>303.30</td>\n",
       "    </tr>\n",
       "    <tr>\n",
       "      <th>4</th>\n",
       "      <td>2017-08-17 20:00:00</td>\n",
       "      <td>0.07012400</td>\n",
       "      <td>0.07147500</td>\n",
       "      <td>0.06988900</td>\n",
       "      <td>0.07047900</td>\n",
       "      <td>3883.15300000</td>\n",
       "      <td>2017-08-17 23:59:59.999</td>\n",
       "      <td>273.59459740</td>\n",
       "      <td>4134</td>\n",
       "      <td>2017.00900000</td>\n",
       "      <td>142.12884692</td>\n",
       "      <td>50579.87228839</td>\n",
       "      <td>ETHBTC</td>\n",
       "      <td>302.01</td>\n",
       "    </tr>\n",
       "  </tbody>\n",
       "</table>\n",
       "</div>"
      ],
      "text/plain": [
       "            Open time        Open        High         Low       Close  \\\n",
       "0 2017-08-17 04:00:00  0.07058200  0.07158200  0.06986700  0.07109400   \n",
       "1 2017-08-17 08:00:00  0.07088100  0.07122900  0.06883000  0.06940600   \n",
       "2 2017-08-17 12:00:00  0.06940600  0.07130400  0.06807700  0.07056100   \n",
       "3 2017-08-17 16:00:00  0.07023900  0.07225400  0.06959600  0.07012400   \n",
       "4 2017-08-17 20:00:00  0.07012400  0.07147500  0.06988900  0.07047900   \n",
       "\n",
       "          Volume              Close time Quote asset volume  Number of trades  \\\n",
       "0  4021.53900000 2017-08-17 07:59:59.999       283.55430669              3117   \n",
       "1  3403.20800000 2017-08-17 11:59:59.999       238.55234849              2984   \n",
       "2  5091.01200000 2017-08-17 15:59:59.999       353.53825545              4190   \n",
       "3  4916.10800000 2017-08-17 19:59:59.999       348.75722631              4351   \n",
       "4  3883.15300000 2017-08-17 23:59:59.999       273.59459740              4134   \n",
       "\n",
       "  Taker buy base asset volume Taker buy quote asset volume          Ignore  \\\n",
       "0               1950.58800000                 137.64451024  46884.54339102   \n",
       "1               1552.15500000                 108.75034780  46866.63079951   \n",
       "2               2497.76000000                 173.62711426  47528.18909052   \n",
       "3               2317.15100000                 164.06176172  48886.75337014   \n",
       "4               2017.00900000                 142.12884692  50579.87228839   \n",
       "\n",
       "   ticker     Usd  \n",
       "0  ETHBTC  309.26  \n",
       "1  ETHBTC  307.28  \n",
       "2  ETHBTC  307.11  \n",
       "3  ETHBTC  303.30  \n",
       "4  ETHBTC  302.01  "
      ]
     },
     "execution_count": 537,
     "metadata": {},
     "output_type": "execute_result"
    }
   ],
   "source": [
    "btc_4hour_dict['ETHBTC'].head()"
   ]
  },
  {
   "cell_type": "markdown",
   "metadata": {},
   "source": [
    "<h5>Great, we have a dictionary with individual currencies as the value. Next let's define a function to add a pump and dump column to the dataframes.</h5>\n",
    "<h5>The column will be the difference of the high price minus the close price for the interval</h5>"
   ]
  },
  {
   "cell_type": "code",
   "execution_count": 552,
   "metadata": {},
   "outputs": [],
   "source": [
    "def add_pnd_column(df, percentage = 0):\n",
    "    '''add pnd column by High - Close. filter by percentage'''\n",
    "    \n",
    "    df['PnD'] = round(df['High'].astype(float)/df['Close'].astype(float) - 1, 4)\n",
    "    df = df[(df.PnD >= percentage)]\n",
    "    \n",
    "    return df"
   ]
  },
  {
   "cell_type": "markdown",
   "metadata": {},
   "source": [
    "<h5>Here we will define a pump and dump as a spike in price over 10% so let's filter our data to only show 4 hour intervals with 10% spikes or higher.</h5>"
   ]
  },
  {
   "cell_type": "code",
   "execution_count": 553,
   "metadata": {},
   "outputs": [],
   "source": [
    "#add a pnd column for each df\n",
    "pnd_4hour = {}\n",
    "for k , v in btc_4hour_dict.items():\n",
    "    pnd_4hour[k] = add_pnd_column(btc_4hour_dict[k], .1)\n"
   ]
  },
  {
   "cell_type": "code",
   "execution_count": 557,
   "metadata": {},
   "outputs": [
    {
     "data": {
      "text/html": [
       "<div>\n",
       "<style scoped>\n",
       "    .dataframe tbody tr th:only-of-type {\n",
       "        vertical-align: middle;\n",
       "    }\n",
       "\n",
       "    .dataframe tbody tr th {\n",
       "        vertical-align: top;\n",
       "    }\n",
       "\n",
       "    .dataframe thead th {\n",
       "        text-align: right;\n",
       "    }\n",
       "</style>\n",
       "<table border=\"1\" class=\"dataframe\">\n",
       "  <thead>\n",
       "    <tr style=\"text-align: right;\">\n",
       "      <th></th>\n",
       "      <th>Open time</th>\n",
       "      <th>Open</th>\n",
       "      <th>High</th>\n",
       "      <th>Low</th>\n",
       "      <th>Close</th>\n",
       "      <th>Volume</th>\n",
       "      <th>Close time</th>\n",
       "      <th>Quote asset volume</th>\n",
       "      <th>Number of trades</th>\n",
       "      <th>Taker buy base asset volume</th>\n",
       "      <th>Taker buy quote asset volume</th>\n",
       "      <th>Ignore</th>\n",
       "      <th>ticker</th>\n",
       "      <th>Usd</th>\n",
       "      <th>PnD</th>\n",
       "    </tr>\n",
       "  </thead>\n",
       "  <tbody>\n",
       "    <tr>\n",
       "      <th>29</th>\n",
       "      <td>2017-08-22 00:00:00</td>\n",
       "      <td>0.08068800</td>\n",
       "      <td>0.08450000</td>\n",
       "      <td>0.07175700</td>\n",
       "      <td>0.07200000</td>\n",
       "      <td>10372.53600000</td>\n",
       "      <td>2017-08-22 03:59:59.999</td>\n",
       "      <td>835.32854914</td>\n",
       "      <td>8015</td>\n",
       "      <td>5791.34700000</td>\n",
       "      <td>466.81083093</td>\n",
       "      <td>66252.18619501</td>\n",
       "      <td>ETHBTC</td>\n",
       "      <td>278.09</td>\n",
       "      <td>0.1736</td>\n",
       "    </tr>\n",
       "    <tr>\n",
       "      <th>501</th>\n",
       "      <td>2017-11-08 20:00:00</td>\n",
       "      <td>0.04422800</td>\n",
       "      <td>0.04600000</td>\n",
       "      <td>0.04141800</td>\n",
       "      <td>0.04142100</td>\n",
       "      <td>14210.14500000</td>\n",
       "      <td>2017-11-08 23:59:59.999</td>\n",
       "      <td>618.31118292</td>\n",
       "      <td>9593</td>\n",
       "      <td>6370.91300000</td>\n",
       "      <td>277.12316289</td>\n",
       "      <td>170293.23529459</td>\n",
       "      <td>ETHBTC</td>\n",
       "      <td>302.50</td>\n",
       "      <td>0.1105</td>\n",
       "    </tr>\n",
       "    <tr>\n",
       "      <th>521</th>\n",
       "      <td>2017-11-12 04:00:00</td>\n",
       "      <td>0.05001800</td>\n",
       "      <td>0.05400000</td>\n",
       "      <td>0.04760000</td>\n",
       "      <td>0.04890000</td>\n",
       "      <td>33510.29700000</td>\n",
       "      <td>2017-11-12 07:59:59.999</td>\n",
       "      <td>1727.09109003</td>\n",
       "      <td>21606</td>\n",
       "      <td>15669.82100000</td>\n",
       "      <td>807.90924763</td>\n",
       "      <td>194577.50153767</td>\n",
       "      <td>ETHBTC</td>\n",
       "      <td>296.33</td>\n",
       "      <td>0.1043</td>\n",
       "    </tr>\n",
       "    <tr>\n",
       "      <th>673</th>\n",
       "      <td>2017-12-07 12:00:00</td>\n",
       "      <td>0.02909600</td>\n",
       "      <td>0.02930500</td>\n",
       "      <td>0.02597800</td>\n",
       "      <td>0.02601400</td>\n",
       "      <td>34688.06300000</td>\n",
       "      <td>2017-12-07 15:59:59.999</td>\n",
       "      <td>950.78819992</td>\n",
       "      <td>31123</td>\n",
       "      <td>16123.47700000</td>\n",
       "      <td>442.14676085</td>\n",
       "      <td>306597.54515753</td>\n",
       "      <td>ETHBTC</td>\n",
       "      <td>398.27</td>\n",
       "      <td>0.1265</td>\n",
       "    </tr>\n",
       "    <tr>\n",
       "      <th>675</th>\n",
       "      <td>2017-12-07 20:00:00</td>\n",
       "      <td>0.02684100</td>\n",
       "      <td>0.02778800</td>\n",
       "      <td>0.02425100</td>\n",
       "      <td>0.02456500</td>\n",
       "      <td>22700.79400000</td>\n",
       "      <td>2017-12-07 23:59:59.999</td>\n",
       "      <td>588.80618826</td>\n",
       "      <td>24938</td>\n",
       "      <td>11336.29400000</td>\n",
       "      <td>294.30217416</td>\n",
       "      <td>310293.11559350</td>\n",
       "      <td>ETHBTC</td>\n",
       "      <td>407.75</td>\n",
       "      <td>0.1312</td>\n",
       "    </tr>\n",
       "  </tbody>\n",
       "</table>\n",
       "</div>"
      ],
      "text/plain": [
       "              Open time        Open        High         Low       Close  \\\n",
       "29  2017-08-22 00:00:00  0.08068800  0.08450000  0.07175700  0.07200000   \n",
       "501 2017-11-08 20:00:00  0.04422800  0.04600000  0.04141800  0.04142100   \n",
       "521 2017-11-12 04:00:00  0.05001800  0.05400000  0.04760000  0.04890000   \n",
       "673 2017-12-07 12:00:00  0.02909600  0.02930500  0.02597800  0.02601400   \n",
       "675 2017-12-07 20:00:00  0.02684100  0.02778800  0.02425100  0.02456500   \n",
       "\n",
       "             Volume              Close time Quote asset volume  \\\n",
       "29   10372.53600000 2017-08-22 03:59:59.999       835.32854914   \n",
       "501  14210.14500000 2017-11-08 23:59:59.999       618.31118292   \n",
       "521  33510.29700000 2017-11-12 07:59:59.999      1727.09109003   \n",
       "673  34688.06300000 2017-12-07 15:59:59.999       950.78819992   \n",
       "675  22700.79400000 2017-12-07 23:59:59.999       588.80618826   \n",
       "\n",
       "     Number of trades Taker buy base asset volume  \\\n",
       "29               8015               5791.34700000   \n",
       "501              9593               6370.91300000   \n",
       "521             21606              15669.82100000   \n",
       "673             31123              16123.47700000   \n",
       "675             24938              11336.29400000   \n",
       "\n",
       "    Taker buy quote asset volume           Ignore  ticker     Usd     PnD  \n",
       "29                  466.81083093   66252.18619501  ETHBTC  278.09  0.1736  \n",
       "501                 277.12316289  170293.23529459  ETHBTC  302.50  0.1105  \n",
       "521                 807.90924763  194577.50153767  ETHBTC  296.33  0.1043  \n",
       "673                 442.14676085  306597.54515753  ETHBTC  398.27  0.1265  \n",
       "675                 294.30217416  310293.11559350  ETHBTC  407.75  0.1312  "
      ]
     },
     "execution_count": 557,
     "metadata": {},
     "output_type": "execute_result"
    }
   ],
   "source": [
    "pnd_4hour['ETHBTC'].head()"
   ]
  },
  {
   "cell_type": "markdown",
   "metadata": {},
   "source": [
    "<h5>Next, let's drop all unnecessary columns</h5>"
   ]
  },
  {
   "cell_type": "code",
   "execution_count": 565,
   "metadata": {},
   "outputs": [],
   "source": [
    "for k , v in pnd_4hour.items():\n",
    "    pnd_4hour[k] = pnd_4hour[k].drop(columns = ['Close time', 'Quote asset volume',\n",
    "                                             'Taker buy base asset volume', 'Taker buy quote asset volume','Ignore'])"
   ]
  },
  {
   "cell_type": "code",
   "execution_count": 566,
   "metadata": {},
   "outputs": [
    {
     "data": {
      "text/html": [
       "<div>\n",
       "<style scoped>\n",
       "    .dataframe tbody tr th:only-of-type {\n",
       "        vertical-align: middle;\n",
       "    }\n",
       "\n",
       "    .dataframe tbody tr th {\n",
       "        vertical-align: top;\n",
       "    }\n",
       "\n",
       "    .dataframe thead th {\n",
       "        text-align: right;\n",
       "    }\n",
       "</style>\n",
       "<table border=\"1\" class=\"dataframe\">\n",
       "  <thead>\n",
       "    <tr style=\"text-align: right;\">\n",
       "      <th></th>\n",
       "      <th>Open time</th>\n",
       "      <th>Open</th>\n",
       "      <th>High</th>\n",
       "      <th>Low</th>\n",
       "      <th>Close</th>\n",
       "      <th>Volume</th>\n",
       "      <th>Number of trades</th>\n",
       "      <th>ticker</th>\n",
       "      <th>Usd</th>\n",
       "      <th>PnD</th>\n",
       "    </tr>\n",
       "  </thead>\n",
       "  <tbody>\n",
       "    <tr>\n",
       "      <th>29</th>\n",
       "      <td>2017-08-22 00:00:00</td>\n",
       "      <td>0.08068800</td>\n",
       "      <td>0.08450000</td>\n",
       "      <td>0.07175700</td>\n",
       "      <td>0.07200000</td>\n",
       "      <td>10372.53600000</td>\n",
       "      <td>8015</td>\n",
       "      <td>ETHBTC</td>\n",
       "      <td>278.09</td>\n",
       "      <td>0.1736</td>\n",
       "    </tr>\n",
       "    <tr>\n",
       "      <th>501</th>\n",
       "      <td>2017-11-08 20:00:00</td>\n",
       "      <td>0.04422800</td>\n",
       "      <td>0.04600000</td>\n",
       "      <td>0.04141800</td>\n",
       "      <td>0.04142100</td>\n",
       "      <td>14210.14500000</td>\n",
       "      <td>9593</td>\n",
       "      <td>ETHBTC</td>\n",
       "      <td>302.50</td>\n",
       "      <td>0.1105</td>\n",
       "    </tr>\n",
       "    <tr>\n",
       "      <th>521</th>\n",
       "      <td>2017-11-12 04:00:00</td>\n",
       "      <td>0.05001800</td>\n",
       "      <td>0.05400000</td>\n",
       "      <td>0.04760000</td>\n",
       "      <td>0.04890000</td>\n",
       "      <td>33510.29700000</td>\n",
       "      <td>21606</td>\n",
       "      <td>ETHBTC</td>\n",
       "      <td>296.33</td>\n",
       "      <td>0.1043</td>\n",
       "    </tr>\n",
       "    <tr>\n",
       "      <th>673</th>\n",
       "      <td>2017-12-07 12:00:00</td>\n",
       "      <td>0.02909600</td>\n",
       "      <td>0.02930500</td>\n",
       "      <td>0.02597800</td>\n",
       "      <td>0.02601400</td>\n",
       "      <td>34688.06300000</td>\n",
       "      <td>31123</td>\n",
       "      <td>ETHBTC</td>\n",
       "      <td>398.27</td>\n",
       "      <td>0.1265</td>\n",
       "    </tr>\n",
       "    <tr>\n",
       "      <th>675</th>\n",
       "      <td>2017-12-07 20:00:00</td>\n",
       "      <td>0.02684100</td>\n",
       "      <td>0.02778800</td>\n",
       "      <td>0.02425100</td>\n",
       "      <td>0.02456500</td>\n",
       "      <td>22700.79400000</td>\n",
       "      <td>24938</td>\n",
       "      <td>ETHBTC</td>\n",
       "      <td>407.75</td>\n",
       "      <td>0.1312</td>\n",
       "    </tr>\n",
       "    <tr>\n",
       "      <th>677</th>\n",
       "      <td>2017-12-08 04:00:00</td>\n",
       "      <td>0.02550900</td>\n",
       "      <td>0.02866500</td>\n",
       "      <td>0.02498200</td>\n",
       "      <td>0.02580600</td>\n",
       "      <td>30464.57400000</td>\n",
       "      <td>33090</td>\n",
       "      <td>ETHBTC</td>\n",
       "      <td>409.80</td>\n",
       "      <td>0.1108</td>\n",
       "    </tr>\n",
       "    <tr>\n",
       "      <th>691</th>\n",
       "      <td>2017-12-10 12:00:00</td>\n",
       "      <td>0.03172600</td>\n",
       "      <td>0.03200000</td>\n",
       "      <td>0.02840000</td>\n",
       "      <td>0.02888600</td>\n",
       "      <td>30992.95600000</td>\n",
       "      <td>30156</td>\n",
       "      <td>ETHBTC</td>\n",
       "      <td>444.84</td>\n",
       "      <td>0.1078</td>\n",
       "    </tr>\n",
       "    <tr>\n",
       "      <th>714</th>\n",
       "      <td>2017-12-14 08:00:00</td>\n",
       "      <td>0.04484500</td>\n",
       "      <td>0.04650000</td>\n",
       "      <td>0.04100000</td>\n",
       "      <td>0.04227300</td>\n",
       "      <td>94754.11600000</td>\n",
       "      <td>72395</td>\n",
       "      <td>ETHBTC</td>\n",
       "      <td>680.55</td>\n",
       "      <td>0.1000</td>\n",
       "    </tr>\n",
       "    <tr>\n",
       "      <th>718</th>\n",
       "      <td>2017-12-15 00:00:00</td>\n",
       "      <td>0.04155000</td>\n",
       "      <td>0.04166000</td>\n",
       "      <td>0.03350100</td>\n",
       "      <td>0.03747900</td>\n",
       "      <td>69008.24100000</td>\n",
       "      <td>63207</td>\n",
       "      <td>ETHBTC</td>\n",
       "      <td>641.60</td>\n",
       "      <td>0.1116</td>\n",
       "    </tr>\n",
       "    <tr>\n",
       "      <th>788</th>\n",
       "      <td>2017-12-26 16:00:00</td>\n",
       "      <td>0.04720700</td>\n",
       "      <td>0.05380000</td>\n",
       "      <td>0.04643000</td>\n",
       "      <td>0.04711300</td>\n",
       "      <td>41546.69600000</td>\n",
       "      <td>50398</td>\n",
       "      <td>ETHBTC</td>\n",
       "      <td>743.81</td>\n",
       "      <td>0.1419</td>\n",
       "    </tr>\n",
       "    <tr>\n",
       "      <th>830</th>\n",
       "      <td>2018-01-02 16:00:00</td>\n",
       "      <td>0.06328600</td>\n",
       "      <td>0.06420000</td>\n",
       "      <td>0.05104000</td>\n",
       "      <td>0.05784500</td>\n",
       "      <td>120239.31700000</td>\n",
       "      <td>169306</td>\n",
       "      <td>ETHBTC</td>\n",
       "      <td>852.22</td>\n",
       "      <td>0.1099</td>\n",
       "    </tr>\n",
       "    <tr>\n",
       "      <th>846</th>\n",
       "      <td>2018-01-05 08:00:00</td>\n",
       "      <td>0.06905700</td>\n",
       "      <td>0.06922200</td>\n",
       "      <td>0.05987000</td>\n",
       "      <td>0.06199700</td>\n",
       "      <td>138499.80400000</td>\n",
       "      <td>185970</td>\n",
       "      <td>ETHBTC</td>\n",
       "      <td>997.57</td>\n",
       "      <td>0.1165</td>\n",
       "    </tr>\n",
       "  </tbody>\n",
       "</table>\n",
       "</div>"
      ],
      "text/plain": [
       "              Open time        Open        High         Low       Close  \\\n",
       "29  2017-08-22 00:00:00  0.08068800  0.08450000  0.07175700  0.07200000   \n",
       "501 2017-11-08 20:00:00  0.04422800  0.04600000  0.04141800  0.04142100   \n",
       "521 2017-11-12 04:00:00  0.05001800  0.05400000  0.04760000  0.04890000   \n",
       "673 2017-12-07 12:00:00  0.02909600  0.02930500  0.02597800  0.02601400   \n",
       "675 2017-12-07 20:00:00  0.02684100  0.02778800  0.02425100  0.02456500   \n",
       "677 2017-12-08 04:00:00  0.02550900  0.02866500  0.02498200  0.02580600   \n",
       "691 2017-12-10 12:00:00  0.03172600  0.03200000  0.02840000  0.02888600   \n",
       "714 2017-12-14 08:00:00  0.04484500  0.04650000  0.04100000  0.04227300   \n",
       "718 2017-12-15 00:00:00  0.04155000  0.04166000  0.03350100  0.03747900   \n",
       "788 2017-12-26 16:00:00  0.04720700  0.05380000  0.04643000  0.04711300   \n",
       "830 2018-01-02 16:00:00  0.06328600  0.06420000  0.05104000  0.05784500   \n",
       "846 2018-01-05 08:00:00  0.06905700  0.06922200  0.05987000  0.06199700   \n",
       "\n",
       "              Volume  Number of trades  ticker     Usd     PnD  \n",
       "29    10372.53600000              8015  ETHBTC  278.09  0.1736  \n",
       "501   14210.14500000              9593  ETHBTC  302.50  0.1105  \n",
       "521   33510.29700000             21606  ETHBTC  296.33  0.1043  \n",
       "673   34688.06300000             31123  ETHBTC  398.27  0.1265  \n",
       "675   22700.79400000             24938  ETHBTC  407.75  0.1312  \n",
       "677   30464.57400000             33090  ETHBTC  409.80  0.1108  \n",
       "691   30992.95600000             30156  ETHBTC  444.84  0.1078  \n",
       "714   94754.11600000             72395  ETHBTC  680.55  0.1000  \n",
       "718   69008.24100000             63207  ETHBTC  641.60  0.1116  \n",
       "788   41546.69600000             50398  ETHBTC  743.81  0.1419  \n",
       "830  120239.31700000            169306  ETHBTC  852.22  0.1099  \n",
       "846  138499.80400000            185970  ETHBTC  997.57  0.1165  "
      ]
     },
     "execution_count": 566,
     "metadata": {},
     "output_type": "execute_result"
    }
   ],
   "source": [
    "pnd_4hour['ETHBTC']"
   ]
  },
  {
   "cell_type": "code",
   "execution_count": null,
   "metadata": {},
   "outputs": [],
   "source": []
  },
  {
   "cell_type": "code",
   "execution_count": 567,
   "metadata": {},
   "outputs": [
    {
     "data": {
      "image/png": "[encoded data removed]",
      "text/plain": [
       "<Figure size 432x288 with 1 Axes>"
      ]
     },
     "metadata": {},
     "output_type": "display_data"
    }
   ],
   "source": [
    "#Plot Cryptocurrency in USD\n",
    "for k, v in btc_4hour_dict.items():\n",
    "    \n",
    "    plt.plot(v['Open time'], v['Usd'], label = k)\n",
    "    plt.yscale('log')\n",
    "    plt.xticks(rotation='65')\n",
    "\n",
    "plt.title('Cryptocurrency in USD')\n",
    "plt.ylabel('USD')\n",
    "plt.legend(bbox_to_anchor=(1, 1))    \n",
    "plt.show()"
   ]
  },
  {
   "cell_type": "markdown",
   "metadata": {},
   "source": [
    "<h5>We can see that each coin is generally correlated. Let's try calculating the pearson correlation coefficients to help visualize.</h5> "
   ]
  },
  {
   "cell_type": "code",
   "execution_count": 325,
   "metadata": {},
   "outputs": [],
   "source": [
    "|"
   ]
  },
  {
   "cell_type": "code",
   "execution_count": null,
   "metadata": {},
   "outputs": [],
   "source": []
  },
  {
   "cell_type": "code",
   "execution_count": null,
   "metadata": {},
   "outputs": [],
   "source": []
  },
  {
   "cell_type": "code",
   "execution_count": null,
   "metadata": {},
   "outputs": [],
   "source": [
    "'''plot 5 things: correlation map, '''\n",
    "'''get marketcap info so we can analyze not just on price fluctuation but cap as a whole'''"
   ]
  },
  {
   "cell_type": "code",
   "execution_count": null,
   "metadata": {},
   "outputs": [],
   "source": []
  },
  {
   "cell_type": "code",
   "execution_count": null,
   "metadata": {},
   "outputs": [],
   "source": [
    "#do tutorial first though...maybe we can sort the lines out in above graph without plot.ly\n",
    "#rewatch datacamp visualization vids\n",
    "#setup github through nbviewer so plot.ly can be used"
   ]
  },
  {
   "cell_type": "markdown",
   "metadata": {},
   "source": [
    "<h5>Correlation analysis</h5>\n"
   ]
  },
  {
   "cell_type": "code",
   "execution_count": null,
   "metadata": {},
   "outputs": [],
   "source": [
    "'''4hour intervals would be a great starting point at identifying P&Ds'''\n",
    "'''what to do when PnD is right when the intervals change? maybe its okay... we dont need all data points, \n",
    "just enough to run a machine learning algorithm ''''''"
   ]
  },
  {
   "cell_type": "code",
   "execution_count": 20,
   "metadata": {},
   "outputs": [
    {
     "data": {
      "text/plain": [
       "'metrics to look at:\\n    PnD to volume ratio scatter plot\\n    volume to price trend scatter plot...does high volume correlate with going up or down?\\n    seasonality?\\n'"
      ]
     },
     "execution_count": 20,
     "metadata": {},
     "output_type": "execute_result"
    }
   ],
   "source": [
    "'''metrics to look at:\n",
    "    PnD to volume ratio scatter plot\n",
    "    volume to price trend scatter plot...does high volume correlate with going up or down?\n",
    "    seasonality?\n",
    "'''"
   ]
  },
  {
   "cell_type": "code",
   "execution_count": null,
   "metadata": {},
   "outputs": [],
   "source": []
  },
  {
   "cell_type": "code",
   "execution_count": null,
   "metadata": {},
   "outputs": [],
   "source": []
  },
  {
   "cell_type": "code",
   "execution_count": 22,
   "metadata": {},
   "outputs": [
    {
     "data": {
      "text/plain": [
       "'do usual eda then learn the datacamp financial series, cyclical trends? weekly and quarterly, monthly, \\nwhich days a week do pnds happen?\\n'"
      ]
     },
     "execution_count": 22,
     "metadata": {},
     "output_type": "execute_result"
    }
   ],
   "source": [
    "'''do usual eda then learn the datacamp financial series, cyclical trends? weekly and quarterly, monthly, \n",
    "which days a week do pnds happen?\n",
    "'''"
   ]
  },
  {
   "cell_type": "code",
   "execution_count": null,
   "metadata": {},
   "outputs": [],
   "source": []
  },
  {
   "cell_type": "code",
   "execution_count": 23,
   "metadata": {},
   "outputs": [
    {
     "data": {
      "text/plain": [
       "'pull all pnd data and overlay them on a graph, try to see any visual patterns'"
      ]
     },
     "execution_count": 23,
     "metadata": {},
     "output_type": "execute_result"
    }
   ],
   "source": [
    "'''pull all pnd data and overlay them on a graph, try to see any visual patterns'''"
   ]
  },
  {
   "cell_type": "code",
   "execution_count": 24,
   "metadata": {},
   "outputs": [
    {
     "data": {
      "text/plain": [
       "'find 10-15 features and see how they contribute'"
      ]
     },
     "execution_count": 24,
     "metadata": {},
     "output_type": "execute_result"
    }
   ],
   "source": [
    "'''find 10-15 features and see how they contribute'''"
   ]
  },
  {
   "cell_type": "code",
   "execution_count": null,
   "metadata": {},
   "outputs": [],
   "source": []
  },
  {
   "cell_type": "code",
   "execution_count": null,
   "metadata": {},
   "outputs": [],
   "source": []
  },
  {
   "cell_type": "code",
   "execution_count": 26,
   "metadata": {},
   "outputs": [
    {
     "data": {
      "text/plain": [
       "'can we pull sell/buy walls? yes but only real time?'"
      ]
     },
     "execution_count": 26,
     "metadata": {},
     "output_type": "execute_result"
    }
   ],
   "source": [
    "'''can we pull sell/buy walls? yes but only real time?'''"
   ]
  },
  {
   "cell_type": "code",
   "execution_count": 562,
   "metadata": {},
   "outputs": [
    {
     "data": {
      "text/plain": [
       "'machine learning!!'"
      ]
     },
     "execution_count": 562,
     "metadata": {},
     "output_type": "execute_result"
    }
   ],
   "source": [
    "'''machine learning!!'''"
   ]
  },
  {
   "cell_type": "code",
   "execution_count": null,
   "metadata": {},
   "outputs": [],
   "source": []
  },
  {
   "cell_type": "code",
   "execution_count": 563,
   "metadata": {},
   "outputs": [],
   "source": [
    "# def clean_df_labels(df):\n",
    "#     '''convert object dtypes to numeric, reset index'''\n",
    "#     df = df.apply(pd.to_numeric, errors='ignore')\n",
    "\n",
    "#     ###how to not convert datetime64 to float?? whats the best way....\n",
    "#     df['Open time'] = df['Open time'].astype('datetime64[ns]')\n",
    "#     df['Close time'] = df['Close time'].astype('datetime64[ns]')\n",
    "#     #df.ticker = df.ticker.astype('category')\n",
    "    \n",
    "#     #reset index\n",
    "#     #df = df.reset_index(drop =True)\n",
    "    \n",
    "#     return df"
   ]
  },
  {
   "cell_type": "code",
   "execution_count": 564,
   "metadata": {},
   "outputs": [],
   "source": [
    "# def concat_all_pump_and_dump(df_dict, percentage = 0):\n",
    "#     '''find all instances of PnD and returns a single df'''\n",
    "  \n",
    "#     #concatonate all dataframes inside given dictionary\n",
    "#     temp_df = pd.concat(df_dict.values())\n",
    "   \n",
    "#     #find pump and dumps above the given percentage\n",
    "#     temp_df = add_pnd_column(temp_df, percentage)\n",
    "    \n",
    "#     #assign dtypes, reset index\n",
    "#     temp_df = clean_df_labels(temp_df)\n",
    "    \n",
    "#     #set index and sort by ticker and Open time\n",
    "#     temp_df = temp_df.set_index(['ticker', 'Open time'])\n",
    "#     temp_df.sort_index()\n",
    "    \n",
    "#     return temp_df"
   ]
  },
  {
   "cell_type": "code",
   "execution_count": null,
   "metadata": {},
   "outputs": [],
   "source": []
  }
 ],
 "metadata": {
  "kernelspec": {
   "display_name": "Python [conda env:binance-analysis]",
   "language": "python",
   "name": "conda-env-binance-analysis-py"
  },
  "language_info": {
   "codemirror_mode": {
    "name": "ipython",
    "version": 3
   },
   "file_extension": ".py",
   "mimetype": "text/x-python",
   "name": "python",
   "nbconvert_exporter": "python",
   "pygments_lexer": "ipython3",
   "version": "3.6.5"
  }
 },
 "nbformat": 4,
 "nbformat_minor": 2
}
